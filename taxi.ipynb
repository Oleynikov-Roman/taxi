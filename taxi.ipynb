{
 "cells": [
  {
   "cell_type": "markdown",
   "metadata": {},
   "source": [
    "#  Прогнозирование заказов такси"
   ]
  },
  {
   "cell_type": "markdown",
   "metadata": {},
   "source": [
    "Компания «Чётенькое такси» собрала исторические данные о заказах такси в аэропортах. Чтобы привлекать больше водителей в период пиковой нагрузки, нужно спрогнозировать количество заказов такси на следующий час. Постройте модель для такого предсказания.\n",
    "\n",
    "Значение метрики *RMSE* на тестовой выборке должно быть не больше 48.\n",
    "\n",
    "Вам нужно:\n",
    "\n",
    "1. Загрузить данные и выполнить их ресемплирование по одному часу.\n",
    "2. Проанализировать данные.\n",
    "3. Обучить разные модели с различными гиперпараметрами. Сделать тестовую выборку размером 10% от исходных данных.\n",
    "4. Проверить данные на тестовой выборке и сделать выводы.\n",
    "\n",
    "\n",
    "Данные лежат в файле `taxi.csv`. Количество заказов находится в столбце `num_orders` (от англ. *number of orders*, «число заказов»)."
   ]
  },
  {
   "cell_type": "markdown",
   "metadata": {},
   "source": [
    "## Подготовка"
   ]
  },
  {
   "cell_type": "markdown",
   "metadata": {},
   "source": [
    "Импортируем все необходимые библиотеки:"
   ]
  },
  {
   "cell_type": "code",
   "execution_count": 31,
   "metadata": {},
   "outputs": [],
   "source": [
    "import pandas as pd\n",
    "import numpy as np\n",
    "from IPython.display import display\n",
    "import matplotlib.pyplot as plt\n",
    "from statsmodels.tsa.seasonal import seasonal_decompose\n",
    "from sklearn.model_selection import train_test_split\n",
    "from sklearn.linear_model import LinearRegression \n",
    "from sklearn.ensemble import RandomForestRegressor \n",
    "import catboost as catboost\n",
    "\n",
    "from sklearn.model_selection import cross_val_score, GridSearchCV , train_test_split, TimeSeriesSplit \n",
    "\n",
    "from sklearn.metrics import make_scorer, mean_squared_error "
   ]
  },
  {
   "cell_type": "code",
   "execution_count": 3,
   "metadata": {},
   "outputs": [
    {
     "data": {
      "text/html": [
       "<div>\n",
       "<style scoped>\n",
       "    .dataframe tbody tr th:only-of-type {\n",
       "        vertical-align: middle;\n",
       "    }\n",
       "\n",
       "    .dataframe tbody tr th {\n",
       "        vertical-align: top;\n",
       "    }\n",
       "\n",
       "    .dataframe thead th {\n",
       "        text-align: right;\n",
       "    }\n",
       "</style>\n",
       "<table border=\"1\" class=\"dataframe\">\n",
       "  <thead>\n",
       "    <tr style=\"text-align: right;\">\n",
       "      <th></th>\n",
       "      <th>num_orders</th>\n",
       "    </tr>\n",
       "    <tr>\n",
       "      <th>datetime</th>\n",
       "      <th></th>\n",
       "    </tr>\n",
       "  </thead>\n",
       "  <tbody>\n",
       "    <tr>\n",
       "      <td>2018-03-01 00:00:00</td>\n",
       "      <td>9</td>\n",
       "    </tr>\n",
       "    <tr>\n",
       "      <td>2018-03-01 00:10:00</td>\n",
       "      <td>14</td>\n",
       "    </tr>\n",
       "    <tr>\n",
       "      <td>2018-03-01 00:20:00</td>\n",
       "      <td>28</td>\n",
       "    </tr>\n",
       "    <tr>\n",
       "      <td>2018-03-01 00:30:00</td>\n",
       "      <td>20</td>\n",
       "    </tr>\n",
       "    <tr>\n",
       "      <td>2018-03-01 00:40:00</td>\n",
       "      <td>32</td>\n",
       "    </tr>\n",
       "  </tbody>\n",
       "</table>\n",
       "</div>"
      ],
      "text/plain": [
       "                     num_orders\n",
       "datetime                       \n",
       "2018-03-01 00:00:00           9\n",
       "2018-03-01 00:10:00          14\n",
       "2018-03-01 00:20:00          28\n",
       "2018-03-01 00:30:00          20\n",
       "2018-03-01 00:40:00          32"
      ]
     },
     "metadata": {},
     "output_type": "display_data"
    }
   ],
   "source": [
    "data=pd.read_csv('taxi.csv',index_col=[0], parse_dates=[0])\n",
    "display(data.head())"
   ]
  },
  {
   "cell_type": "code",
   "execution_count": 4,
   "metadata": {},
   "outputs": [
    {
     "name": "stdout",
     "output_type": "stream",
     "text": [
      "<class 'pandas.core.frame.DataFrame'>\n",
      "DatetimeIndex: 26496 entries, 2018-03-01 00:00:00 to 2018-08-31 23:50:00\n",
      "Data columns (total 1 columns):\n",
      "num_orders    26496 non-null int64\n",
      "dtypes: int64(1)\n",
      "memory usage: 414.0 KB\n"
     ]
    }
   ],
   "source": [
    "data.info()"
   ]
  },
  {
   "cell_type": "code",
   "execution_count": 5,
   "metadata": {},
   "outputs": [
    {
     "data": {
      "text/plain": [
       "<matplotlib.axes._subplots.AxesSubplot at 0x7fe22f864450>"
      ]
     },
     "execution_count": 5,
     "metadata": {},
     "output_type": "execute_result"
    },
    {
     "data": {
      "image/png": "[encoded data removed]",
      "text/plain": [
       "<Figure size 432x288 with 1 Axes>"
      ]
     },
     "metadata": {
      "needs_background": "light"
     },
     "output_type": "display_data"
    }
   ],
   "source": [
    "data.plot()"
   ]
  },
  {
   "cell_type": "code",
   "execution_count": 6,
   "metadata": {},
   "outputs": [
    {
     "name": "stdout",
     "output_type": "stream",
     "text": [
      "True\n"
     ]
    }
   ],
   "source": [
    "print(data.index.is_monotonic)"
   ]
  },
  {
   "cell_type": "code",
   "execution_count": 7,
   "metadata": {},
   "outputs": [],
   "source": [
    "data=data.resample('1H').sum()"
   ]
  },
  {
   "cell_type": "code",
   "execution_count": 8,
   "metadata": {},
   "outputs": [
    {
     "data": {
      "text/plain": [
       "<matplotlib.axes._subplots.AxesSubplot at 0x7fe230321890>"
      ]
     },
     "execution_count": 8,
     "metadata": {},
     "output_type": "execute_result"
    },
    {
     "data": {
      "image/png": "[encoded data removed]",
      "text/plain": [
       "<Figure size 432x288 with 1 Axes>"
      ]
     },
     "metadata": {
      "needs_background": "light"
     },
     "output_type": "display_data"
    }
   ],
   "source": [
    "data.plot()"
   ]
  },
  {
   "cell_type": "markdown",
   "metadata": {},
   "source": [
    "## Анализ"
   ]
  },
  {
   "cell_type": "code",
   "execution_count": 9,
   "metadata": {},
   "outputs": [
    {
     "name": "stdout",
     "output_type": "stream",
     "text": [
      "2018-03-01 00:00:00\n",
      "2018-08-31 23:00:00\n",
      "183 days 23:00:00\n"
     ]
    }
   ],
   "source": [
    "print(data.index.min())\n",
    "print(data.index.max())\n",
    "print(data.index.max()-data.index.min())"
   ]
  },
  {
   "cell_type": "code",
   "execution_count": 10,
   "metadata": {},
   "outputs": [
    {
     "data": {
      "text/plain": [
       "<matplotlib.axes._subplots.AxesSubplot at 0x7fe2301a0590>"
      ]
     },
     "execution_count": 10,
     "metadata": {},
     "output_type": "execute_result"
    },
    {
     "data": {
      "image/png": "[encoded data removed]",
      "text/plain": [
       "<Figure size 432x288 with 1 Axes>"
      ]
     },
     "metadata": {
      "needs_background": "light"
     },
     "output_type": "display_data"
    }
   ],
   "source": [
    "data.resample('1D').sum().plot()"
   ]
  },
  {
   "cell_type": "code",
   "execution_count": 11,
   "metadata": {},
   "outputs": [
    {
     "data": {
      "text/plain": [
       "<matplotlib.axes._subplots.AxesSubplot at 0x7fe22f955e50>"
      ]
     },
     "execution_count": 11,
     "metadata": {},
     "output_type": "execute_result"
    },
    {
     "data": {
      "image/png": "[encoded data removed]",
      "text/plain": [
       "<Figure size 432x288 with 1 Axes>"
      ]
     },
     "metadata": {
      "needs_background": "light"
     },
     "output_type": "display_data"
    }
   ],
   "source": [
    "data.rolling(100).mean().plot()"
   ]
  },
  {
   "cell_type": "code",
   "execution_count": 12,
   "metadata": {},
   "outputs": [
    {
     "data": {
      "image/png": "[encoded data removed]",
      "text/plain": [
       "<Figure size 864x1440 with 3 Axes>"
      ]
     },
     "metadata": {
      "needs_background": "light"
     },
     "output_type": "display_data"
    }
   ],
   "source": [
    "decomposed = seasonal_decompose(data)\n",
    "\n",
    "plt.figure(figsize=(12, 20))\n",
    "\n",
    "plt.subplot(311)\n",
    "decomposed.trend.plot(ax=plt.gca())\n",
    "plt.title('Trend')\n",
    "\n",
    "plt.subplot(312)\n",
    "decomposed.seasonal.plot(ax=plt.gca())\n",
    "plt.title('Seasonality')\n",
    "\n",
    "plt.subplot(313)\n",
    "decomposed.resid.plot(ax=plt.gca())\n",
    "plt.title('Residuals')\n",
    "plt.tight_layout()"
   ]
  },
  {
   "cell_type": "markdown",
   "metadata": {},
   "source": [
    "На графиках явно видна суточная сезонность. Ночью количество заказов стремится к нулю, в то время как вечерний час пик - момент самого сильного спроса на услуги такси."
   ]
  },
  {
   "cell_type": "markdown",
   "metadata": {},
   "source": [
    "## Обучение"
   ]
  },
  {
   "cell_type": "code",
   "execution_count": 13,
   "metadata": {},
   "outputs": [],
   "source": [
    "def make_features(data,max_lag,roll):\n",
    "    data['dayofweek']=data.index.dayofweek\n",
    "    data['hour']=data.index.hour\n",
    "    for i in range(1,max_lag+1):\n",
    "        data['lag_{}'.format(i)]=data['num_orders'].shift(i)\n",
    "    data['rolling_mean']=data['num_orders'].shift().rolling(roll).mean()\n",
    "make_features(data,24,100)"
   ]
  },
  {
   "cell_type": "code",
   "execution_count": 14,
   "metadata": {},
   "outputs": [],
   "source": [
    "data=data.dropna()"
   ]
  },
  {
   "cell_type": "code",
   "execution_count": 15,
   "metadata": {},
   "outputs": [
    {
     "data": {
      "text/html": [
       "<div>\n",
       "<style scoped>\n",
       "    .dataframe tbody tr th:only-of-type {\n",
       "        vertical-align: middle;\n",
       "    }\n",
       "\n",
       "    .dataframe tbody tr th {\n",
       "        vertical-align: top;\n",
       "    }\n",
       "\n",
       "    .dataframe thead th {\n",
       "        text-align: right;\n",
       "    }\n",
       "</style>\n",
       "<table border=\"1\" class=\"dataframe\">\n",
       "  <thead>\n",
       "    <tr style=\"text-align: right;\">\n",
       "      <th></th>\n",
       "      <th>num_orders</th>\n",
       "      <th>dayofweek</th>\n",
       "      <th>hour</th>\n",
       "      <th>lag_1</th>\n",
       "      <th>lag_2</th>\n",
       "      <th>lag_3</th>\n",
       "      <th>lag_4</th>\n",
       "      <th>lag_5</th>\n",
       "      <th>lag_6</th>\n",
       "      <th>lag_7</th>\n",
       "      <th>...</th>\n",
       "      <th>lag_16</th>\n",
       "      <th>lag_17</th>\n",
       "      <th>lag_18</th>\n",
       "      <th>lag_19</th>\n",
       "      <th>lag_20</th>\n",
       "      <th>lag_21</th>\n",
       "      <th>lag_22</th>\n",
       "      <th>lag_23</th>\n",
       "      <th>lag_24</th>\n",
       "      <th>rolling_mean</th>\n",
       "    </tr>\n",
       "    <tr>\n",
       "      <th>datetime</th>\n",
       "      <th></th>\n",
       "      <th></th>\n",
       "      <th></th>\n",
       "      <th></th>\n",
       "      <th></th>\n",
       "      <th></th>\n",
       "      <th></th>\n",
       "      <th></th>\n",
       "      <th></th>\n",
       "      <th></th>\n",
       "      <th></th>\n",
       "      <th></th>\n",
       "      <th></th>\n",
       "      <th></th>\n",
       "      <th></th>\n",
       "      <th></th>\n",
       "      <th></th>\n",
       "      <th></th>\n",
       "      <th></th>\n",
       "      <th></th>\n",
       "      <th></th>\n",
       "    </tr>\n",
       "  </thead>\n",
       "  <tbody>\n",
       "    <tr>\n",
       "      <td>2018-03-05 04:00:00</td>\n",
       "      <td>34</td>\n",
       "      <td>0</td>\n",
       "      <td>4</td>\n",
       "      <td>51.0</td>\n",
       "      <td>32.0</td>\n",
       "      <td>176.0</td>\n",
       "      <td>86.0</td>\n",
       "      <td>68.0</td>\n",
       "      <td>83.0</td>\n",
       "      <td>75.0</td>\n",
       "      <td>...</td>\n",
       "      <td>30.0</td>\n",
       "      <td>41.0</td>\n",
       "      <td>19.0</td>\n",
       "      <td>39.0</td>\n",
       "      <td>39.0</td>\n",
       "      <td>12.0</td>\n",
       "      <td>11.0</td>\n",
       "      <td>22.0</td>\n",
       "      <td>27.0</td>\n",
       "      <td>56.46</td>\n",
       "    </tr>\n",
       "    <tr>\n",
       "      <td>2018-03-05 05:00:00</td>\n",
       "      <td>16</td>\n",
       "      <td>0</td>\n",
       "      <td>5</td>\n",
       "      <td>34.0</td>\n",
       "      <td>51.0</td>\n",
       "      <td>32.0</td>\n",
       "      <td>176.0</td>\n",
       "      <td>86.0</td>\n",
       "      <td>68.0</td>\n",
       "      <td>83.0</td>\n",
       "      <td>...</td>\n",
       "      <td>30.0</td>\n",
       "      <td>30.0</td>\n",
       "      <td>41.0</td>\n",
       "      <td>19.0</td>\n",
       "      <td>39.0</td>\n",
       "      <td>39.0</td>\n",
       "      <td>12.0</td>\n",
       "      <td>11.0</td>\n",
       "      <td>22.0</td>\n",
       "      <td>55.56</td>\n",
       "    </tr>\n",
       "    <tr>\n",
       "      <td>2018-03-05 06:00:00</td>\n",
       "      <td>3</td>\n",
       "      <td>0</td>\n",
       "      <td>6</td>\n",
       "      <td>16.0</td>\n",
       "      <td>34.0</td>\n",
       "      <td>51.0</td>\n",
       "      <td>32.0</td>\n",
       "      <td>176.0</td>\n",
       "      <td>86.0</td>\n",
       "      <td>68.0</td>\n",
       "      <td>...</td>\n",
       "      <td>56.0</td>\n",
       "      <td>30.0</td>\n",
       "      <td>30.0</td>\n",
       "      <td>41.0</td>\n",
       "      <td>19.0</td>\n",
       "      <td>39.0</td>\n",
       "      <td>39.0</td>\n",
       "      <td>12.0</td>\n",
       "      <td>11.0</td>\n",
       "      <td>54.87</td>\n",
       "    </tr>\n",
       "    <tr>\n",
       "      <td>2018-03-05 07:00:00</td>\n",
       "      <td>14</td>\n",
       "      <td>0</td>\n",
       "      <td>7</td>\n",
       "      <td>3.0</td>\n",
       "      <td>16.0</td>\n",
       "      <td>34.0</td>\n",
       "      <td>51.0</td>\n",
       "      <td>32.0</td>\n",
       "      <td>176.0</td>\n",
       "      <td>86.0</td>\n",
       "      <td>...</td>\n",
       "      <td>58.0</td>\n",
       "      <td>56.0</td>\n",
       "      <td>30.0</td>\n",
       "      <td>30.0</td>\n",
       "      <td>41.0</td>\n",
       "      <td>19.0</td>\n",
       "      <td>39.0</td>\n",
       "      <td>39.0</td>\n",
       "      <td>12.0</td>\n",
       "      <td>54.19</td>\n",
       "    </tr>\n",
       "    <tr>\n",
       "      <td>2018-03-05 08:00:00</td>\n",
       "      <td>31</td>\n",
       "      <td>0</td>\n",
       "      <td>8</td>\n",
       "      <td>14.0</td>\n",
       "      <td>3.0</td>\n",
       "      <td>16.0</td>\n",
       "      <td>34.0</td>\n",
       "      <td>51.0</td>\n",
       "      <td>32.0</td>\n",
       "      <td>176.0</td>\n",
       "      <td>...</td>\n",
       "      <td>64.0</td>\n",
       "      <td>58.0</td>\n",
       "      <td>56.0</td>\n",
       "      <td>30.0</td>\n",
       "      <td>30.0</td>\n",
       "      <td>41.0</td>\n",
       "      <td>19.0</td>\n",
       "      <td>39.0</td>\n",
       "      <td>39.0</td>\n",
       "      <td>53.67</td>\n",
       "    </tr>\n",
       "    <tr>\n",
       "      <td>...</td>\n",
       "      <td>...</td>\n",
       "      <td>...</td>\n",
       "      <td>...</td>\n",
       "      <td>...</td>\n",
       "      <td>...</td>\n",
       "      <td>...</td>\n",
       "      <td>...</td>\n",
       "      <td>...</td>\n",
       "      <td>...</td>\n",
       "      <td>...</td>\n",
       "      <td>...</td>\n",
       "      <td>...</td>\n",
       "      <td>...</td>\n",
       "      <td>...</td>\n",
       "      <td>...</td>\n",
       "      <td>...</td>\n",
       "      <td>...</td>\n",
       "      <td>...</td>\n",
       "      <td>...</td>\n",
       "      <td>...</td>\n",
       "      <td>...</td>\n",
       "    </tr>\n",
       "    <tr>\n",
       "      <td>2018-08-31 19:00:00</td>\n",
       "      <td>136</td>\n",
       "      <td>4</td>\n",
       "      <td>19</td>\n",
       "      <td>207.0</td>\n",
       "      <td>217.0</td>\n",
       "      <td>197.0</td>\n",
       "      <td>116.0</td>\n",
       "      <td>133.0</td>\n",
       "      <td>166.0</td>\n",
       "      <td>136.0</td>\n",
       "      <td>...</td>\n",
       "      <td>99.0</td>\n",
       "      <td>230.0</td>\n",
       "      <td>194.0</td>\n",
       "      <td>276.0</td>\n",
       "      <td>246.0</td>\n",
       "      <td>158.0</td>\n",
       "      <td>198.0</td>\n",
       "      <td>142.0</td>\n",
       "      <td>72.0</td>\n",
       "      <td>157.33</td>\n",
       "    </tr>\n",
       "    <tr>\n",
       "      <td>2018-08-31 20:00:00</td>\n",
       "      <td>154</td>\n",
       "      <td>4</td>\n",
       "      <td>20</td>\n",
       "      <td>136.0</td>\n",
       "      <td>207.0</td>\n",
       "      <td>217.0</td>\n",
       "      <td>197.0</td>\n",
       "      <td>116.0</td>\n",
       "      <td>133.0</td>\n",
       "      <td>166.0</td>\n",
       "      <td>...</td>\n",
       "      <td>268.0</td>\n",
       "      <td>99.0</td>\n",
       "      <td>230.0</td>\n",
       "      <td>194.0</td>\n",
       "      <td>276.0</td>\n",
       "      <td>246.0</td>\n",
       "      <td>158.0</td>\n",
       "      <td>198.0</td>\n",
       "      <td>142.0</td>\n",
       "      <td>156.74</td>\n",
       "    </tr>\n",
       "    <tr>\n",
       "      <td>2018-08-31 21:00:00</td>\n",
       "      <td>159</td>\n",
       "      <td>4</td>\n",
       "      <td>21</td>\n",
       "      <td>154.0</td>\n",
       "      <td>136.0</td>\n",
       "      <td>207.0</td>\n",
       "      <td>217.0</td>\n",
       "      <td>197.0</td>\n",
       "      <td>116.0</td>\n",
       "      <td>133.0</td>\n",
       "      <td>...</td>\n",
       "      <td>78.0</td>\n",
       "      <td>268.0</td>\n",
       "      <td>99.0</td>\n",
       "      <td>230.0</td>\n",
       "      <td>194.0</td>\n",
       "      <td>276.0</td>\n",
       "      <td>246.0</td>\n",
       "      <td>158.0</td>\n",
       "      <td>198.0</td>\n",
       "      <td>156.63</td>\n",
       "    </tr>\n",
       "    <tr>\n",
       "      <td>2018-08-31 22:00:00</td>\n",
       "      <td>223</td>\n",
       "      <td>4</td>\n",
       "      <td>22</td>\n",
       "      <td>159.0</td>\n",
       "      <td>154.0</td>\n",
       "      <td>136.0</td>\n",
       "      <td>207.0</td>\n",
       "      <td>217.0</td>\n",
       "      <td>197.0</td>\n",
       "      <td>116.0</td>\n",
       "      <td>...</td>\n",
       "      <td>35.0</td>\n",
       "      <td>78.0</td>\n",
       "      <td>268.0</td>\n",
       "      <td>99.0</td>\n",
       "      <td>230.0</td>\n",
       "      <td>194.0</td>\n",
       "      <td>276.0</td>\n",
       "      <td>246.0</td>\n",
       "      <td>158.0</td>\n",
       "      <td>156.40</td>\n",
       "    </tr>\n",
       "    <tr>\n",
       "      <td>2018-08-31 23:00:00</td>\n",
       "      <td>205</td>\n",
       "      <td>4</td>\n",
       "      <td>23</td>\n",
       "      <td>223.0</td>\n",
       "      <td>159.0</td>\n",
       "      <td>154.0</td>\n",
       "      <td>136.0</td>\n",
       "      <td>207.0</td>\n",
       "      <td>217.0</td>\n",
       "      <td>197.0</td>\n",
       "      <td>...</td>\n",
       "      <td>46.0</td>\n",
       "      <td>35.0</td>\n",
       "      <td>78.0</td>\n",
       "      <td>268.0</td>\n",
       "      <td>99.0</td>\n",
       "      <td>230.0</td>\n",
       "      <td>194.0</td>\n",
       "      <td>276.0</td>\n",
       "      <td>246.0</td>\n",
       "      <td>157.52</td>\n",
       "    </tr>\n",
       "  </tbody>\n",
       "</table>\n",
       "<p>4316 rows × 28 columns</p>\n",
       "</div>"
      ],
      "text/plain": [
       "                     num_orders  dayofweek  hour  lag_1  lag_2  lag_3  lag_4  \\\n",
       "datetime                                                                       \n",
       "2018-03-05 04:00:00          34          0     4   51.0   32.0  176.0   86.0   \n",
       "2018-03-05 05:00:00          16          0     5   34.0   51.0   32.0  176.0   \n",
       "2018-03-05 06:00:00           3          0     6   16.0   34.0   51.0   32.0   \n",
       "2018-03-05 07:00:00          14          0     7    3.0   16.0   34.0   51.0   \n",
       "2018-03-05 08:00:00          31          0     8   14.0    3.0   16.0   34.0   \n",
       "...                         ...        ...   ...    ...    ...    ...    ...   \n",
       "2018-08-31 19:00:00         136          4    19  207.0  217.0  197.0  116.0   \n",
       "2018-08-31 20:00:00         154          4    20  136.0  207.0  217.0  197.0   \n",
       "2018-08-31 21:00:00         159          4    21  154.0  136.0  207.0  217.0   \n",
       "2018-08-31 22:00:00         223          4    22  159.0  154.0  136.0  207.0   \n",
       "2018-08-31 23:00:00         205          4    23  223.0  159.0  154.0  136.0   \n",
       "\n",
       "                     lag_5  lag_6  lag_7  ...  lag_16  lag_17  lag_18  lag_19  \\\n",
       "datetime                                  ...                                   \n",
       "2018-03-05 04:00:00   68.0   83.0   75.0  ...    30.0    41.0    19.0    39.0   \n",
       "2018-03-05 05:00:00   86.0   68.0   83.0  ...    30.0    30.0    41.0    19.0   \n",
       "2018-03-05 06:00:00  176.0   86.0   68.0  ...    56.0    30.0    30.0    41.0   \n",
       "2018-03-05 07:00:00   32.0  176.0   86.0  ...    58.0    56.0    30.0    30.0   \n",
       "2018-03-05 08:00:00   51.0   32.0  176.0  ...    64.0    58.0    56.0    30.0   \n",
       "...                    ...    ...    ...  ...     ...     ...     ...     ...   \n",
       "2018-08-31 19:00:00  133.0  166.0  136.0  ...    99.0   230.0   194.0   276.0   \n",
       "2018-08-31 20:00:00  116.0  133.0  166.0  ...   268.0    99.0   230.0   194.0   \n",
       "2018-08-31 21:00:00  197.0  116.0  133.0  ...    78.0   268.0    99.0   230.0   \n",
       "2018-08-31 22:00:00  217.0  197.0  116.0  ...    35.0    78.0   268.0    99.0   \n",
       "2018-08-31 23:00:00  207.0  217.0  197.0  ...    46.0    35.0    78.0   268.0   \n",
       "\n",
       "                     lag_20  lag_21  lag_22  lag_23  lag_24  rolling_mean  \n",
       "datetime                                                                   \n",
       "2018-03-05 04:00:00    39.0    12.0    11.0    22.0    27.0         56.46  \n",
       "2018-03-05 05:00:00    39.0    39.0    12.0    11.0    22.0         55.56  \n",
       "2018-03-05 06:00:00    19.0    39.0    39.0    12.0    11.0         54.87  \n",
       "2018-03-05 07:00:00    41.0    19.0    39.0    39.0    12.0         54.19  \n",
       "2018-03-05 08:00:00    30.0    41.0    19.0    39.0    39.0         53.67  \n",
       "...                     ...     ...     ...     ...     ...           ...  \n",
       "2018-08-31 19:00:00   246.0   158.0   198.0   142.0    72.0        157.33  \n",
       "2018-08-31 20:00:00   276.0   246.0   158.0   198.0   142.0        156.74  \n",
       "2018-08-31 21:00:00   194.0   276.0   246.0   158.0   198.0        156.63  \n",
       "2018-08-31 22:00:00   230.0   194.0   276.0   246.0   158.0        156.40  \n",
       "2018-08-31 23:00:00    99.0   230.0   194.0   276.0   246.0        157.52  \n",
       "\n",
       "[4316 rows x 28 columns]"
      ]
     },
     "metadata": {},
     "output_type": "display_data"
    }
   ],
   "source": [
    "display(data)"
   ]
  },
  {
   "cell_type": "code",
   "execution_count": 16,
   "metadata": {},
   "outputs": [],
   "source": [
    "train,test=train_test_split(data,shuffle=False,test_size=0.1)\n",
    "features_train = train.drop(['num_orders'], axis=1)\n",
    "target_train = train['num_orders']\n",
    "features_test = test.drop(['num_orders'], axis=1)\n",
    "target_test = test['num_orders']"
   ]
  },
  {
   "cell_type": "code",
   "execution_count": 17,
   "metadata": {},
   "outputs": [],
   "source": [
    "def RMSE(target, predict):\n",
    "    return (mean_squared_error(target, predict))**0.5\n",
    "RMSE_score = make_scorer(RMSE, greater_is_better=False)"
   ]
  },
  {
   "cell_type": "code",
   "execution_count": 22,
   "metadata": {},
   "outputs": [
    {
     "name": "stdout",
     "output_type": "stream",
     "text": [
      "28.41240243714249\n"
     ]
    }
   ],
   "source": [
    "my_cv = TimeSeriesSplit(n_splits=3).split(features_train)\n",
    "regression = LinearRegression(copy_X=True, fit_intercept=True, n_jobs=None, normalize=True)\n",
    "regression.fit(features_train, target_train)\n",
    "score = abs(pd.Series(cross_val_score(regression,features_train,target_train,scoring=RMSE_score,cv=my_cv)).mean())\n",
    "print(score)"
   ]
  },
  {
   "cell_type": "code",
   "execution_count": 23,
   "metadata": {},
   "outputs": [
    {
     "data": {
      "text/plain": [
       "GridSearchCV(cv=<generator object TimeSeriesSplit.split at 0x7fe226ce9d50>,\n",
       "             error_score='raise-deprecating',\n",
       "             estimator=RandomForestRegressor(bootstrap=True, criterion='mse',\n",
       "                                             max_depth=None,\n",
       "                                             max_features='auto',\n",
       "                                             max_leaf_nodes=None,\n",
       "                                             min_impurity_decrease=0.0,\n",
       "                                             min_impurity_split=None,\n",
       "                                             min_samples_leaf=1,\n",
       "                                             min_samples_split=2,\n",
       "                                             min_weight_fraction_leaf=0.0,\n",
       "                                             n_estimator...', n_jobs=None,\n",
       "                                             oob_score=False, random_state=None,\n",
       "                                             verbose=0, warm_start=False),\n",
       "             iid='warn', n_jobs=None,\n",
       "             param_grid={'max_depth': range(1, 15, 2),\n",
       "                         'min_samples_leaf': range(1, 5),\n",
       "                         'min_samples_split': range(2, 8, 2),\n",
       "                         'n_estimators': range(5, 30, 5)},\n",
       "             pre_dispatch='2*n_jobs', refit=True, return_train_score=False,\n",
       "             scoring=make_scorer(RMSE, greater_is_better=False), verbose=0)"
      ]
     },
     "execution_count": 23,
     "metadata": {},
     "output_type": "execute_result"
    }
   ],
   "source": [
    "my_cv = TimeSeriesSplit(n_splits=3).split(features_train)\n",
    "model = RandomForestRegressor()\n",
    "parametrs = { 'n_estimators': range(5, 30, 5),\n",
    "                     'max_depth': range(1, 15, 2),\n",
    "                     'min_samples_leaf': range(1,5),\n",
    "                     'min_samples_split': range(2,8,2) }\n",
    "forest = GridSearchCV(model,parametrs, scoring=RMSE_score, cv=my_cv)\n",
    "forest.fit(features_train, target_train)"
   ]
  },
  {
   "cell_type": "code",
   "execution_count": 24,
   "metadata": {},
   "outputs": [
    {
     "name": "stdout",
     "output_type": "stream",
     "text": [
      "0:\tlearn: 28.8347707\ttotal: 48.3ms\tremaining: 48.2s\n",
      "100:\tlearn: 17.9492898\ttotal: 722ms\tremaining: 6.43s\n",
      "200:\tlearn: 16.0842229\ttotal: 1.4s\tremaining: 5.56s\n",
      "300:\tlearn: 14.8521484\ttotal: 2.08s\tremaining: 4.82s\n",
      "400:\tlearn: 13.5729537\ttotal: 2.75s\tremaining: 4.12s\n",
      "500:\tlearn: 12.5203313\ttotal: 3.43s\tremaining: 3.42s\n",
      "600:\tlearn: 11.7036985\ttotal: 4.11s\tremaining: 2.73s\n",
      "700:\tlearn: 10.9473044\ttotal: 4.72s\tremaining: 2.01s\n",
      "800:\tlearn: 10.2835917\ttotal: 5.4s\tremaining: 1.34s\n",
      "900:\tlearn: 9.6930777\ttotal: 6.07s\tremaining: 667ms\n",
      "999:\tlearn: 9.0818401\ttotal: 6.86s\tremaining: 0us\n",
      "0:\tlearn: 31.8722326\ttotal: 2.84ms\tremaining: 2.83s\n",
      "100:\tlearn: 20.2493589\ttotal: 1.24s\tremaining: 11.1s\n",
      "200:\tlearn: 18.5101107\ttotal: 2.61s\tremaining: 10.4s\n",
      "300:\tlearn: 17.4485035\ttotal: 3.87s\tremaining: 8.99s\n",
      "400:\tlearn: 16.5733982\ttotal: 5.12s\tremaining: 7.65s\n",
      "500:\tlearn: 15.8244209\ttotal: 6.47s\tremaining: 6.44s\n",
      "600:\tlearn: 15.1863347\ttotal: 7.73s\tremaining: 5.13s\n",
      "700:\tlearn: 14.6399190\ttotal: 8.99s\tremaining: 3.84s\n",
      "800:\tlearn: 14.1029615\ttotal: 10.4s\tremaining: 2.57s\n",
      "900:\tlearn: 13.5726207\ttotal: 11.6s\tremaining: 1.27s\n",
      "999:\tlearn: 13.0750565\ttotal: 13s\tremaining: 0us\n",
      "0:\tlearn: 33.4545680\ttotal: 4.4ms\tremaining: 4.39s\n",
      "100:\tlearn: 21.5323916\ttotal: 2.17s\tremaining: 19.3s\n",
      "200:\tlearn: 20.0172220\ttotal: 4.41s\tremaining: 17.5s\n",
      "300:\tlearn: 19.0451150\ttotal: 6.58s\tremaining: 15.3s\n",
      "400:\tlearn: 18.2981846\ttotal: 8.83s\tremaining: 13.2s\n",
      "500:\tlearn: 17.5866689\ttotal: 11s\tremaining: 10.9s\n",
      "600:\tlearn: 16.9913674\ttotal: 13s\tremaining: 8.65s\n",
      "700:\tlearn: 16.4210250\ttotal: 15.2s\tremaining: 6.48s\n",
      "800:\tlearn: 15.9262689\ttotal: 17.5s\tremaining: 4.33s\n",
      "900:\tlearn: 15.5067803\ttotal: 19.5s\tremaining: 2.15s\n",
      "999:\tlearn: 15.1139362\ttotal: 21.6s\tremaining: 0us\n",
      "0:\tlearn: 27.9779927\ttotal: 1.28ms\tremaining: 1.28s\n",
      "100:\tlearn: 14.6521452\ttotal: 490ms\tremaining: 4.36s\n",
      "200:\tlearn: 11.5475691\ttotal: 1.34s\tremaining: 5.33s\n",
      "300:\tlearn: 9.3365355\ttotal: 2.11s\tremaining: 4.9s\n",
      "400:\tlearn: 7.6463182\ttotal: 2.86s\tremaining: 4.28s\n",
      "500:\tlearn: 6.3562991\ttotal: 3.62s\tremaining: 3.61s\n",
      "600:\tlearn: 5.3259026\ttotal: 4.29s\tremaining: 2.85s\n",
      "700:\tlearn: 4.4603570\ttotal: 5.05s\tremaining: 2.15s\n",
      "800:\tlearn: 3.7775846\ttotal: 5.66s\tremaining: 1.4s\n",
      "900:\tlearn: 3.2210823\ttotal: 6.33s\tremaining: 696ms\n",
      "999:\tlearn: 2.7530407\ttotal: 7.01s\tremaining: 0us\n",
      "0:\tlearn: 30.8813350\ttotal: 1.81ms\tremaining: 1.81s\n",
      "100:\tlearn: 17.3689588\ttotal: 1.28s\tremaining: 11.4s\n",
      "200:\tlearn: 14.9782853\ttotal: 2.72s\tremaining: 10.8s\n",
      "300:\tlearn: 13.1165003\ttotal: 4.06s\tremaining: 9.43s\n",
      "400:\tlearn: 11.7577832\ttotal: 5.32s\tremaining: 7.95s\n",
      "500:\tlearn: 10.6809831\ttotal: 6.67s\tremaining: 6.64s\n",
      "600:\tlearn: 9.7033016\ttotal: 7.94s\tremaining: 5.27s\n",
      "700:\tlearn: 8.8078684\ttotal: 9.3s\tremaining: 3.97s\n",
      "800:\tlearn: 7.9339686\ttotal: 10.6s\tremaining: 2.63s\n",
      "900:\tlearn: 7.2061977\ttotal: 11.8s\tremaining: 1.3s\n",
      "999:\tlearn: 6.5741971\ttotal: 13.1s\tremaining: 0us\n",
      "0:\tlearn: 32.4531276\ttotal: 5.05ms\tremaining: 5.05s\n",
      "100:\tlearn: 18.9418682\ttotal: 2.4s\tremaining: 21.3s\n",
      "200:\tlearn: 16.7472307\ttotal: 4.64s\tremaining: 18.5s\n",
      "300:\tlearn: 15.1937284\ttotal: 6.81s\tremaining: 15.8s\n",
      "400:\tlearn: 14.0195411\ttotal: 9.26s\tremaining: 13.8s\n",
      "500:\tlearn: 12.9716072\ttotal: 11.5s\tremaining: 11.5s\n",
      "600:\tlearn: 12.0323326\ttotal: 14.2s\tremaining: 9.4s\n",
      "700:\tlearn: 11.2358048\ttotal: 16.3s\tremaining: 6.96s\n",
      "800:\tlearn: 10.4962924\ttotal: 18.3s\tremaining: 4.55s\n",
      "900:\tlearn: 9.8527710\ttotal: 20.8s\tremaining: 2.29s\n",
      "999:\tlearn: 9.2753074\ttotal: 23.3s\tremaining: 0us\n",
      "0:\tlearn: 28.8208380\ttotal: 3.78ms\tremaining: 3.77s\n",
      "100:\tlearn: 16.4954012\ttotal: 1.45s\tremaining: 12.9s\n",
      "200:\tlearn: 13.9789847\ttotal: 3s\tremaining: 11.9s\n",
      "300:\tlearn: 12.1977580\ttotal: 4.46s\tremaining: 10.4s\n",
      "400:\tlearn: 10.6741485\ttotal: 5.94s\tremaining: 8.87s\n",
      "500:\tlearn: 9.3873098\ttotal: 7.36s\tremaining: 7.33s\n",
      "600:\tlearn: 8.2312501\ttotal: 8.83s\tremaining: 5.86s\n",
      "700:\tlearn: 7.3247860\ttotal: 10.3s\tremaining: 4.39s\n",
      "800:\tlearn: 6.4711502\ttotal: 11.7s\tremaining: 2.92s\n",
      "900:\tlearn: 5.7752007\ttotal: 13.3s\tremaining: 1.46s\n",
      "999:\tlearn: 5.1696003\ttotal: 14.8s\tremaining: 0us\n",
      "0:\tlearn: 31.8703126\ttotal: 8.91ms\tremaining: 8.9s\n",
      "100:\tlearn: 18.9227121\ttotal: 2.21s\tremaining: 19.7s\n",
      "200:\tlearn: 16.7374071\ttotal: 4.47s\tremaining: 17.8s\n",
      "300:\tlearn: 15.3068467\ttotal: 6.62s\tremaining: 15.4s\n",
      "400:\tlearn: 14.2048507\ttotal: 8.8s\tremaining: 13.2s\n",
      "500:\tlearn: 13.1406990\ttotal: 11s\tremaining: 11s\n",
      "600:\tlearn: 12.2833411\ttotal: 13.2s\tremaining: 8.77s\n",
      "700:\tlearn: 11.4746067\ttotal: 15.5s\tremaining: 6.63s\n",
      "800:\tlearn: 10.7083077\ttotal: 17.7s\tremaining: 4.4s\n",
      "900:\tlearn: 10.0069713\ttotal: 19.9s\tremaining: 2.18s\n",
      "999:\tlearn: 9.4162276\ttotal: 22.1s\tremaining: 0us\n",
      "0:\tlearn: 33.4532863\ttotal: 6.76ms\tremaining: 6.76s\n",
      "100:\tlearn: 20.4189904\ttotal: 3.59s\tremaining: 31.9s\n",
      "200:\tlearn: 18.4349587\ttotal: 7.23s\tremaining: 28.7s\n",
      "300:\tlearn: 17.2682137\ttotal: 10.3s\tremaining: 23.9s\n",
      "400:\tlearn: 16.2668866\ttotal: 13.8s\tremaining: 20.7s\n",
      "500:\tlearn: 15.2074999\ttotal: 17.7s\tremaining: 17.6s\n",
      "600:\tlearn: 14.3555702\ttotal: 20.5s\tremaining: 13.6s\n",
      "700:\tlearn: 13.5619759\ttotal: 23.2s\tremaining: 9.89s\n",
      "800:\tlearn: 12.8902023\ttotal: 26.1s\tremaining: 6.5s\n",
      "900:\tlearn: 12.2470110\ttotal: 28.8s\tremaining: 3.17s\n",
      "999:\tlearn: 11.6331401\ttotal: 31.7s\tremaining: 0us\n",
      "0:\tlearn: 27.9295895\ttotal: 2.61ms\tremaining: 2.61s\n",
      "100:\tlearn: 11.8914619\ttotal: 1.57s\tremaining: 14s\n",
      "200:\tlearn: 7.6213102\ttotal: 3.23s\tremaining: 12.8s\n",
      "300:\tlearn: 5.3689990\ttotal: 4.77s\tremaining: 11.1s\n",
      "400:\tlearn: 3.9048502\ttotal: 6.34s\tremaining: 9.47s\n",
      "500:\tlearn: 2.7418766\ttotal: 7.92s\tremaining: 7.89s\n",
      "600:\tlearn: 1.9570757\ttotal: 9.56s\tremaining: 6.35s\n",
      "700:\tlearn: 1.3630563\ttotal: 11.2s\tremaining: 4.79s\n",
      "800:\tlearn: 0.9997499\ttotal: 12.8s\tremaining: 3.17s\n",
      "900:\tlearn: 0.7352252\ttotal: 14.4s\tremaining: 1.59s\n",
      "999:\tlearn: 0.5255787\ttotal: 16s\tremaining: 0us\n",
      "0:\tlearn: 30.8742444\ttotal: 3.01ms\tremaining: 3.01s\n",
      "100:\tlearn: 15.0393801\ttotal: 2.16s\tremaining: 19.2s\n",
      "200:\tlearn: 11.8683815\ttotal: 4.33s\tremaining: 17.2s\n",
      "300:\tlearn: 9.5375794\ttotal: 6.58s\tremaining: 15.3s\n",
      "400:\tlearn: 7.6783150\ttotal: 8.75s\tremaining: 13.1s\n",
      "500:\tlearn: 6.2101133\ttotal: 11s\tremaining: 11s\n",
      "600:\tlearn: 5.0224135\ttotal: 13.2s\tremaining: 8.74s\n",
      "700:\tlearn: 4.0853189\ttotal: 15.4s\tremaining: 6.57s\n",
      "800:\tlearn: 3.3571176\ttotal: 17.6s\tremaining: 4.37s\n",
      "900:\tlearn: 2.7324359\ttotal: 19.8s\tremaining: 2.18s\n",
      "999:\tlearn: 2.2584467\ttotal: 22s\tremaining: 0us\n",
      "0:\tlearn: 32.4483359\ttotal: 3.5ms\tremaining: 3.49s\n",
      "100:\tlearn: 17.1607576\ttotal: 2.73s\tremaining: 24.3s\n",
      "200:\tlearn: 14.0057999\ttotal: 5.49s\tremaining: 21.8s\n",
      "300:\tlearn: 11.8358108\ttotal: 8.33s\tremaining: 19.4s\n",
      "400:\tlearn: 10.0851389\ttotal: 11.3s\tremaining: 16.9s\n",
      "500:\tlearn: 8.7715453\ttotal: 14s\tremaining: 13.9s\n",
      "600:\tlearn: 7.5988117\ttotal: 16.8s\tremaining: 11.2s\n",
      "700:\tlearn: 6.5449697\ttotal: 19.6s\tremaining: 8.34s\n",
      "800:\tlearn: 5.6354492\ttotal: 22.6s\tremaining: 5.61s\n",
      "900:\tlearn: 4.8709897\ttotal: 25.5s\tremaining: 2.81s\n",
      "999:\tlearn: 4.2727847\ttotal: 28.3s\tremaining: 0us\n",
      "0:\tlearn: 28.8253420\ttotal: 86.2ms\tremaining: 1m 26s\n",
      "100:\tlearn: 13.3790626\ttotal: 10s\tremaining: 1m 29s\n",
      "200:\tlearn: 9.0761410\ttotal: 19.9s\tremaining: 1m 19s\n",
      "300:\tlearn: 6.5351186\ttotal: 29.9s\tremaining: 1m 9s\n",
      "400:\tlearn: 4.8202408\ttotal: 39.7s\tremaining: 59.3s\n",
      "500:\tlearn: 3.6213742\ttotal: 49.7s\tremaining: 49.5s\n",
      "600:\tlearn: 2.6880934\ttotal: 59.5s\tremaining: 39.5s\n",
      "700:\tlearn: 2.0374136\ttotal: 1m 9s\tremaining: 29.5s\n",
      "800:\tlearn: 1.5805399\ttotal: 1m 19s\tremaining: 19.6s\n",
      "900:\tlearn: 1.2119788\ttotal: 1m 28s\tremaining: 9.75s\n",
      "999:\tlearn: 0.9093677\ttotal: 1m 38s\tremaining: 0us\n",
      "0:\tlearn: 31.8392162\ttotal: 55.9ms\tremaining: 55.8s\n",
      "100:\tlearn: 15.7630980\ttotal: 12.7s\tremaining: 1m 53s\n",
      "200:\tlearn: 12.1796758\ttotal: 25.4s\tremaining: 1m 41s\n",
      "300:\tlearn: 9.9499650\ttotal: 38.1s\tremaining: 1m 28s\n",
      "400:\tlearn: 8.2889098\ttotal: 50.8s\tremaining: 1m 15s\n",
      "500:\tlearn: 6.9100836\ttotal: 1m 3s\tremaining: 1m 3s\n",
      "600:\tlearn: 5.7077315\ttotal: 1m 15s\tremaining: 50.4s\n",
      "700:\tlearn: 4.7546616\ttotal: 1m 28s\tremaining: 37.8s\n",
      "800:\tlearn: 3.8924726\ttotal: 1m 41s\tremaining: 25.1s\n",
      "900:\tlearn: 3.2405408\ttotal: 1m 53s\tremaining: 12.5s\n",
      "999:\tlearn: 2.6713005\ttotal: 2m 6s\tremaining: 0us\n",
      "0:\tlearn: 33.4236151\ttotal: 86.4ms\tremaining: 1m 26s\n",
      "100:\tlearn: 17.6323260\ttotal: 13.8s\tremaining: 2m 2s\n",
      "200:\tlearn: 14.2061676\ttotal: 27.4s\tremaining: 1m 49s\n",
      "300:\tlearn: 11.9730470\ttotal: 41.2s\tremaining: 1m 35s\n",
      "400:\tlearn: 10.2300999\ttotal: 54.8s\tremaining: 1m 21s\n",
      "500:\tlearn: 8.6795332\ttotal: 1m 8s\tremaining: 1m 8s\n",
      "600:\tlearn: 7.4605435\ttotal: 1m 22s\tremaining: 54.8s\n",
      "700:\tlearn: 6.4288638\ttotal: 1m 36s\tremaining: 41.1s\n",
      "800:\tlearn: 5.5631450\ttotal: 1m 50s\tremaining: 27.4s\n",
      "900:\tlearn: 4.8593156\ttotal: 2m 3s\tremaining: 13.6s\n",
      "999:\tlearn: 4.1392206\ttotal: 2m 17s\tremaining: 0us\n",
      "0:\tlearn: 27.9390696\ttotal: 15.5ms\tremaining: 15.5s\n",
      "100:\tlearn: 5.9216784\ttotal: 9.93s\tremaining: 1m 28s\n",
      "200:\tlearn: 2.2284944\ttotal: 19.9s\tremaining: 1m 18s\n",
      "300:\tlearn: 0.8995747\ttotal: 29.8s\tremaining: 1m 9s\n",
      "400:\tlearn: 0.3599376\ttotal: 39.8s\tremaining: 59.4s\n",
      "500:\tlearn: 0.1430414\ttotal: 49.6s\tremaining: 49.4s\n",
      "600:\tlearn: 0.0584560\ttotal: 59.5s\tremaining: 39.5s\n",
      "700:\tlearn: 0.0259836\ttotal: 1m 9s\tremaining: 29.7s\n",
      "800:\tlearn: 0.0104098\ttotal: 1m 19s\tremaining: 19.7s\n",
      "900:\tlearn: 0.0044151\ttotal: 1m 29s\tremaining: 9.81s\n",
      "999:\tlearn: 0.0019414\ttotal: 1m 39s\tremaining: 0us\n",
      "0:\tlearn: 30.7683719\ttotal: 18.6ms\tremaining: 18.6s\n",
      "100:\tlearn: 9.2885008\ttotal: 12.6s\tremaining: 1m 52s\n",
      "200:\tlearn: 4.9780084\ttotal: 25.2s\tremaining: 1m 40s\n",
      "300:\tlearn: 2.7628391\ttotal: 37.7s\tremaining: 1m 27s\n",
      "400:\tlearn: 1.4547195\ttotal: 50.5s\tremaining: 1m 15s\n",
      "500:\tlearn: 0.7956416\ttotal: 1m 3s\tremaining: 1m 2s\n",
      "600:\tlearn: 0.4384140\ttotal: 1m 15s\tremaining: 50.4s\n",
      "700:\tlearn: 0.2556945\ttotal: 1m 28s\tremaining: 37.7s\n",
      "800:\tlearn: 0.1469668\ttotal: 1m 41s\tremaining: 25.1s\n",
      "900:\tlearn: 0.0825177\ttotal: 1m 53s\tremaining: 12.5s\n",
      "999:\tlearn: 0.0505692\ttotal: 2m 5s\tremaining: 0us\n",
      "0:\tlearn: 32.3468524\ttotal: 22.1ms\tremaining: 22.1s\n",
      "100:\tlearn: 11.5771454\ttotal: 13.7s\tremaining: 2m 1s\n",
      "200:\tlearn: 6.8579761\ttotal: 27.3s\tremaining: 1m 48s\n",
      "300:\tlearn: 4.2014478\ttotal: 40.9s\tremaining: 1m 35s\n",
      "400:\tlearn: 2.6394912\ttotal: 54.4s\tremaining: 1m 21s\n",
      "500:\tlearn: 1.5735980\ttotal: 1m 8s\tremaining: 1m 8s\n",
      "600:\tlearn: 0.9760125\ttotal: 1m 22s\tremaining: 54.5s\n",
      "700:\tlearn: 0.6134561\ttotal: 1m 35s\tremaining: 40.9s\n",
      "800:\tlearn: 0.4055660\ttotal: 1m 49s\tremaining: 27.2s\n",
      "900:\tlearn: 0.2609669\ttotal: 2m 3s\tremaining: 13.6s\n",
      "999:\tlearn: 0.1734820\ttotal: 2m 17s\tremaining: 0us\n",
      "0:\tlearn: 38.2170015\ttotal: 2.23ms\tremaining: 2.23s\n",
      "100:\tlearn: 24.2669641\ttotal: 1.65s\tremaining: 14.7s\n",
      "200:\tlearn: 22.8477524\ttotal: 3.61s\tremaining: 14.4s\n",
      "300:\tlearn: 21.6907833\ttotal: 5.26s\tremaining: 12.2s\n",
      "400:\tlearn: 20.7671769\ttotal: 7.23s\tremaining: 10.8s\n",
      "500:\tlearn: 19.9969797\ttotal: 8.99s\tremaining: 8.95s\n",
      "600:\tlearn: 19.3650453\ttotal: 10.7s\tremaining: 7.13s\n",
      "700:\tlearn: 18.7896640\ttotal: 12.4s\tremaining: 5.29s\n",
      "800:\tlearn: 18.2751178\ttotal: 14.1s\tremaining: 3.5s\n",
      "900:\tlearn: 17.7967185\ttotal: 15.7s\tremaining: 1.73s\n",
      "999:\tlearn: 17.3689475\ttotal: 17.6s\tremaining: 0us\n"
     ]
    },
    {
     "data": {
      "text/plain": [
       "GridSearchCV(cv=<generator object TimeSeriesSplit.split at 0x7fe226ce9450>,\n",
       "             error_score='raise-deprecating',\n",
       "             estimator=<catboost.core.CatBoostRegressor object at 0x7fe226c4ec50>,\n",
       "             iid='warn', n_jobs=None,\n",
       "             param_grid={'depth': [4, 6, 10], 'learning_rate': [0.03, 0.1]},\n",
       "             pre_dispatch='2*n_jobs', refit=True, return_train_score=False,\n",
       "             scoring=make_scorer(RMSE, greater_is_better=False), verbose=0)"
      ]
     },
     "execution_count": 24,
     "metadata": {},
     "output_type": "execute_result"
    }
   ],
   "source": [
    "my_cv = TimeSeriesSplit(n_splits=3).split(features_train)\n",
    "cb = catboost.CatBoostRegressor()\n",
    "cb_parametrs = {'learning_rate': [0.03, 0.1],\n",
    "                'depth': [4, 6, 10]\n",
    "               }\n",
    "cb_grid = GridSearchCV(cb, cb_parametrs, scoring=RMSE_score, cv=my_cv)\n",
    "cb_grid.fit(features_train, target_train, verbose=100)"
   ]
  },
  {
   "cell_type": "markdown",
   "metadata": {},
   "source": [
    "## Тестирование"
   ]
  },
  {
   "cell_type": "code",
   "execution_count": 25,
   "metadata": {},
   "outputs": [
    {
     "name": "stdout",
     "output_type": "stream",
     "text": [
      "RMSE модели Линейной регрессии: 45.17441695549331\n"
     ]
    }
   ],
   "source": [
    "regression_model = LinearRegression(copy_X=True, fit_intercept=True, n_jobs=None, normalize=True)\n",
    "regression_model.fit(features_train, target_train)\n",
    "regression_model_predictions = regression_model.predict(features_test)\n",
    "print('RMSE ', RMSE(target_test, regression_model_predictions))"
   ]
  },
  {
   "cell_type": "code",
   "execution_count": 26,
   "metadata": {},
   "outputs": [
    {
     "name": "stdout",
     "output_type": "stream",
     "text": [
      "RMSE  42.79762556535308\n"
     ]
    }
   ],
   "source": [
    "forest_model = RandomForestRegressor(random_state=42,\n",
    "                                     max_depth=13,\n",
    "                                     min_samples_leaf =3,\n",
    "                                     min_samples_split = 4,\n",
    "                                     n_estimators = 25)\n",
    "forest_model.fit(features_train, target_train)\n",
    "forest_model_predictions = forest_model.predict(features_test)\n",
    "print('RMSE ', RMSE(target_test, forest_model_predictions))"
   ]
  },
  {
   "cell_type": "code",
   "execution_count": 32,
   "metadata": {},
   "outputs": [
    {
     "name": "stdout",
     "output_type": "stream",
     "text": [
      "0:\tlearn: 38.2170015\ttotal: 2.48ms\tremaining: 2.48s\n",
      "100:\tlearn: 24.2669641\ttotal: 1.74s\tremaining: 15.5s\n",
      "200:\tlearn: 22.8477524\ttotal: 3.48s\tremaining: 13.8s\n",
      "300:\tlearn: 21.6907833\ttotal: 5.23s\tremaining: 12.2s\n",
      "400:\tlearn: 20.7671769\ttotal: 6.9s\tremaining: 10.3s\n",
      "500:\tlearn: 19.9969797\ttotal: 8.66s\tremaining: 8.63s\n",
      "600:\tlearn: 19.3650453\ttotal: 10.7s\tremaining: 7.11s\n",
      "700:\tlearn: 18.7896640\ttotal: 12.6s\tremaining: 5.36s\n",
      "800:\tlearn: 18.2751178\ttotal: 14.2s\tremaining: 3.54s\n",
      "900:\tlearn: 17.7967185\ttotal: 16.1s\tremaining: 1.77s\n",
      "999:\tlearn: 17.3689475\ttotal: 17.8s\tremaining: 0us\n",
      "RMSE  40.888650070239\n"
     ]
    }
   ],
   "source": [
    "cb_model = catboost.CatBoostRegressor(learning_rate=0.03,depth=4)\n",
    "cb_model.fit(features_train, target_train, verbose=100)\n",
    "cb_model_predictions = cb_model.predict(features_test)\n",
    "print('RMSE ', RMSE(target_test, cb_model_predictions))"
   ]
  },
  {
   "cell_type": "markdown",
   "metadata": {},
   "source": [
    "Лучший результат показывает CBR(40.88)"
   ]
  },
  {
   "cell_type": "markdown",
   "metadata": {},
   "source": [
    "## Чек-лист проверки"
   ]
  },
  {
   "cell_type": "markdown",
   "metadata": {},
   "source": [
    "- [x]  Jupyter Notebook открыт\n",
    "- [ ]  Весь код выполняется без ошибок\n",
    "- [ ]  Ячейки с кодом расположены в порядке исполнения\n",
    "- [ ]  Данные загружены и подготовлены\n",
    "- [ ]  Данные проанализированы\n",
    "- [ ]  Модель обучена, гиперпараметры подобраны\n",
    "- [ ]  Качество моделей проверено, выводы сделаны\n",
    "- [ ]  Значение *RMSE* на тестовой выборке не больше 48"
   ]
  }
 ],
 "metadata": {
  "ExecuteTimeLog": [
   {
    "duration": 748,
    "start_time": "2022-02-07T16:22:53.700Z"
   },
   {
    "duration": 4403,
    "start_time": "2022-02-07T16:23:12.149Z"
   },
   {
    "duration": 111,
    "start_time": "2022-02-07T16:23:22.907Z"
   },
   {
    "duration": 516,
    "start_time": "2022-02-07T16:23:38.860Z"
   },
   {
    "duration": 2,
    "start_time": "2022-02-07T16:23:41.929Z"
   },
   {
    "duration": 35,
    "start_time": "2022-02-07T16:23:50.905Z"
   },
   {
    "duration": 31,
    "start_time": "2022-02-07T16:23:54.256Z"
   },
   {
    "duration": 7,
    "start_time": "2022-02-07T16:24:46.845Z"
   },
   {
    "duration": 387,
    "start_time": "2022-02-07T16:25:12.531Z"
   },
   {
    "duration": 36,
    "start_time": "2022-02-07T16:25:21.960Z"
   },
   {
    "duration": 5,
    "start_time": "2022-02-07T16:25:25.082Z"
   },
   {
    "duration": 8563,
    "start_time": "2022-02-07T16:26:03.575Z"
   },
   {
    "duration": -156,
    "start_time": "2022-02-07T16:26:12.295Z"
   },
   {
    "duration": 8839,
    "start_time": "2022-02-07T16:26:28.735Z"
   },
   {
    "duration": 32,
    "start_time": "2022-02-07T16:27:17.024Z"
   },
   {
    "duration": 39,
    "start_time": "2022-02-07T16:27:57.201Z"
   },
   {
    "duration": -143,
    "start_time": "2022-02-07T16:28:33.605Z"
   },
   {
    "duration": 36,
    "start_time": "2022-02-07T16:28:34.020Z"
   },
   {
    "duration": 6,
    "start_time": "2022-02-07T16:28:37.613Z"
   },
   {
    "duration": 6,
    "start_time": "2022-02-07T16:29:23.334Z"
   },
   {
    "duration": 5,
    "start_time": "2022-02-07T16:29:31.762Z"
   },
   {
    "duration": 3,
    "start_time": "2022-02-07T16:29:33.570Z"
   },
   {
    "duration": 3,
    "start_time": "2022-02-07T16:29:37.519Z"
   },
   {
    "duration": 682,
    "start_time": "2022-02-07T16:29:47.741Z"
   },
   {
    "duration": 6,
    "start_time": "2022-02-07T16:29:49.237Z"
   },
   {
    "duration": 3,
    "start_time": "2022-02-07T16:29:51.075Z"
   },
   {
    "duration": 37,
    "start_time": "2022-02-07T16:30:10.719Z"
   },
   {
    "duration": 6,
    "start_time": "2022-02-07T16:30:11.761Z"
   },
   {
    "duration": 3,
    "start_time": "2022-02-07T16:30:13.582Z"
   },
   {
    "duration": 36,
    "start_time": "2022-02-07T16:30:16.886Z"
   },
   {
    "duration": 7,
    "start_time": "2022-02-07T16:30:17.212Z"
   },
   {
    "duration": 67,
    "start_time": "2022-02-07T16:31:22.094Z"
   },
   {
    "duration": 37,
    "start_time": "2022-02-07T16:31:22.664Z"
   },
   {
    "duration": 5,
    "start_time": "2022-02-07T16:31:22.892Z"
   },
   {
    "duration": 3,
    "start_time": "2022-02-07T16:31:23.191Z"
   },
   {
    "duration": 325,
    "start_time": "2022-02-07T16:31:23.613Z"
   },
   {
    "duration": 36,
    "start_time": "2022-02-07T16:32:03.501Z"
   },
   {
    "duration": 5,
    "start_time": "2022-02-07T16:32:03.818Z"
   },
   {
    "duration": 3,
    "start_time": "2022-02-07T16:32:04.167Z"
   },
   {
    "duration": 6,
    "start_time": "2022-02-07T16:32:04.591Z"
   },
   {
    "duration": 213,
    "start_time": "2022-02-07T16:32:13.157Z"
   },
   {
    "duration": 6,
    "start_time": "2022-02-07T16:32:32.153Z"
   },
   {
    "duration": 251,
    "start_time": "2022-02-07T16:32:32.457Z"
   },
   {
    "duration": 6,
    "start_time": "2022-02-07T16:32:39.390Z"
   },
   {
    "duration": 205,
    "start_time": "2022-02-07T16:32:39.864Z"
   },
   {
    "duration": 8,
    "start_time": "2022-02-07T16:32:42.895Z"
   },
   {
    "duration": 146,
    "start_time": "2022-02-07T16:32:43.824Z"
   },
   {
    "duration": 4,
    "start_time": "2022-02-07T16:32:48.570Z"
   },
   {
    "duration": 36,
    "start_time": "2022-02-07T16:33:41.249Z"
   },
   {
    "duration": 6,
    "start_time": "2022-02-07T16:33:43.401Z"
   },
   {
    "duration": 7,
    "start_time": "2022-02-07T16:33:57.681Z"
   },
   {
    "duration": 242,
    "start_time": "2022-02-07T16:33:58.148Z"
   },
   {
    "duration": 84,
    "start_time": "2022-02-08T04:33:09.746Z"
   },
   {
    "duration": 308,
    "start_time": "2022-02-08T04:33:14.198Z"
   },
   {
    "duration": 652,
    "start_time": "2022-02-08T04:33:18.351Z"
   },
   {
    "duration": 47,
    "start_time": "2022-02-08T04:33:19.005Z"
   },
   {
    "duration": 8,
    "start_time": "2022-02-08T04:33:19.053Z"
   },
   {
    "duration": 3,
    "start_time": "2022-02-08T04:33:19.381Z"
   },
   {
    "duration": 10,
    "start_time": "2022-02-08T04:33:19.672Z"
   },
   {
    "duration": 303,
    "start_time": "2022-02-08T04:33:19.962Z"
   },
   {
    "duration": 7,
    "start_time": "2022-02-08T04:33:21.234Z"
   },
   {
    "duration": 4,
    "start_time": "2022-02-08T04:33:49.056Z"
   },
   {
    "duration": 4,
    "start_time": "2022-02-08T04:34:01.088Z"
   },
   {
    "duration": 4,
    "start_time": "2022-02-08T04:34:31.711Z"
   },
   {
    "duration": 318,
    "start_time": "2022-02-08T04:37:28.275Z"
   },
   {
    "duration": 6,
    "start_time": "2022-02-08T04:37:38.116Z"
   },
   {
    "duration": 353,
    "start_time": "2022-02-08T04:37:38.522Z"
   },
   {
    "duration": 6,
    "start_time": "2022-02-08T04:37:45.251Z"
   },
   {
    "duration": 319,
    "start_time": "2022-02-08T04:37:46.125Z"
   },
   {
    "duration": 6,
    "start_time": "2022-02-08T04:37:58.988Z"
   },
   {
    "duration": 317,
    "start_time": "2022-02-08T04:38:00.059Z"
   },
   {
    "duration": 331,
    "start_time": "2022-02-08T04:39:37.353Z"
   },
   {
    "duration": 679,
    "start_time": "2022-02-08T04:39:45.231Z"
   },
   {
    "duration": 50,
    "start_time": "2022-02-08T04:39:45.912Z"
   },
   {
    "duration": 9,
    "start_time": "2022-02-08T04:39:45.964Z"
   },
   {
    "duration": 745,
    "start_time": "2022-02-08T04:39:45.975Z"
   },
   {
    "duration": 4,
    "start_time": "2022-02-08T04:39:46.722Z"
   },
   {
    "duration": 16,
    "start_time": "2022-02-08T04:39:46.728Z"
   },
   {
    "duration": 323,
    "start_time": "2022-02-08T04:39:46.746Z"
   },
   {
    "duration": 5,
    "start_time": "2022-02-08T04:39:47.071Z"
   },
   {
    "duration": 12,
    "start_time": "2022-02-08T04:39:47.078Z"
   },
   {
    "duration": 359,
    "start_time": "2022-02-08T04:39:47.093Z"
   },
   {
    "duration": 88,
    "start_time": "2022-02-08T04:42:58.696Z"
   },
   {
    "duration": 380,
    "start_time": "2022-02-08T04:43:08.844Z"
   },
   {
    "duration": 401,
    "start_time": "2022-02-08T04:43:59.294Z"
   },
   {
    "duration": 3,
    "start_time": "2022-02-08T04:44:19.147Z"
   },
   {
    "duration": 47,
    "start_time": "2022-02-08T04:44:19.323Z"
   },
   {
    "duration": 7,
    "start_time": "2022-02-08T04:44:19.518Z"
   },
   {
    "duration": 724,
    "start_time": "2022-02-08T04:44:19.735Z"
   },
   {
    "duration": 4,
    "start_time": "2022-02-08T04:44:20.461Z"
   },
   {
    "duration": 14,
    "start_time": "2022-02-08T04:44:20.468Z"
   },
   {
    "duration": 282,
    "start_time": "2022-02-08T04:44:23.325Z"
   },
   {
    "duration": 4,
    "start_time": "2022-02-08T04:44:24.201Z"
   },
   {
    "duration": 6,
    "start_time": "2022-02-08T04:44:24.563Z"
   },
   {
    "duration": 323,
    "start_time": "2022-02-08T04:44:24.929Z"
   },
   {
    "duration": 252,
    "start_time": "2022-02-08T04:44:25.377Z"
   },
   {
    "duration": 49,
    "start_time": "2022-02-08T04:45:02.426Z"
   },
   {
    "duration": 7,
    "start_time": "2022-02-08T04:45:03.368Z"
   },
   {
    "duration": 742,
    "start_time": "2022-02-08T04:45:04.337Z"
   },
   {
    "duration": 3,
    "start_time": "2022-02-08T04:45:05.081Z"
   },
   {
    "duration": 22,
    "start_time": "2022-02-08T04:45:05.087Z"
   },
   {
    "duration": 308,
    "start_time": "2022-02-08T04:45:05.111Z"
   },
   {
    "duration": 4,
    "start_time": "2022-02-08T04:45:05.421Z"
   },
   {
    "duration": 6,
    "start_time": "2022-02-08T04:45:05.537Z"
   },
   {
    "duration": 318,
    "start_time": "2022-02-08T04:45:05.759Z"
   },
   {
    "duration": 276,
    "start_time": "2022-02-08T04:45:06.095Z"
   },
   {
    "duration": 48,
    "start_time": "2022-02-08T04:45:17.564Z"
   },
   {
    "duration": 8,
    "start_time": "2022-02-08T04:45:17.997Z"
   },
   {
    "duration": 670,
    "start_time": "2022-02-08T04:45:19.032Z"
   },
   {
    "duration": 4,
    "start_time": "2022-02-08T04:45:19.705Z"
   },
   {
    "duration": 22,
    "start_time": "2022-02-08T04:45:19.711Z"
   },
   {
    "duration": 307,
    "start_time": "2022-02-08T04:45:19.735Z"
   },
   {
    "duration": 5,
    "start_time": "2022-02-08T04:45:20.045Z"
   },
   {
    "duration": 8,
    "start_time": "2022-02-08T04:45:20.124Z"
   },
   {
    "duration": 402,
    "start_time": "2022-02-08T04:45:20.314Z"
   },
   {
    "duration": 237,
    "start_time": "2022-02-08T04:45:21.429Z"
   },
   {
    "duration": 43,
    "start_time": "2022-02-08T04:45:29.162Z"
   },
   {
    "duration": 6,
    "start_time": "2022-02-08T04:45:29.511Z"
   },
   {
    "duration": 658,
    "start_time": "2022-02-08T04:45:29.706Z"
   },
   {
    "duration": 4,
    "start_time": "2022-02-08T04:45:30.367Z"
   },
   {
    "duration": 19,
    "start_time": "2022-02-08T04:45:30.374Z"
   },
   {
    "duration": 300,
    "start_time": "2022-02-08T04:45:30.814Z"
   },
   {
    "duration": 5,
    "start_time": "2022-02-08T04:45:31.533Z"
   },
   {
    "duration": 7,
    "start_time": "2022-02-08T04:45:31.921Z"
   },
   {
    "duration": 324,
    "start_time": "2022-02-08T04:45:32.319Z"
   },
   {
    "duration": 243,
    "start_time": "2022-02-08T04:45:32.750Z"
   },
   {
    "duration": 330,
    "start_time": "2022-02-08T04:46:00.147Z"
   },
   {
    "duration": 257,
    "start_time": "2022-02-08T04:46:00.494Z"
   },
   {
    "duration": 243,
    "start_time": "2022-02-08T04:46:03.405Z"
   },
   {
    "duration": 7,
    "start_time": "2022-02-08T04:46:06.120Z"
   },
   {
    "duration": 423,
    "start_time": "2022-02-08T04:46:06.658Z"
   },
   {
    "duration": 478,
    "start_time": "2022-02-08T04:46:07.180Z"
   },
   {
    "duration": 266,
    "start_time": "2022-02-08T04:46:20.145Z"
   },
   {
    "duration": 12,
    "start_time": "2022-02-08T04:46:37.833Z"
   },
   {
    "duration": 7,
    "start_time": "2022-02-08T04:46:49.596Z"
   },
   {
    "duration": 6,
    "start_time": "2022-02-08T04:46:55.955Z"
   },
   {
    "duration": 364,
    "start_time": "2022-02-08T04:46:56.691Z"
   },
   {
    "duration": 1174,
    "start_time": "2022-02-08T04:47:08.161Z"
   },
   {
    "duration": 50,
    "start_time": "2022-02-08T04:47:09.338Z"
   },
   {
    "duration": 17,
    "start_time": "2022-02-08T04:47:09.391Z"
   },
   {
    "duration": 733,
    "start_time": "2022-02-08T04:47:09.410Z"
   },
   {
    "duration": 3,
    "start_time": "2022-02-08T04:47:10.145Z"
   },
   {
    "duration": 16,
    "start_time": "2022-02-08T04:47:10.150Z"
   },
   {
    "duration": 331,
    "start_time": "2022-02-08T04:47:10.168Z"
   },
   {
    "duration": 5,
    "start_time": "2022-02-08T04:47:10.506Z"
   },
   {
    "duration": 320,
    "start_time": "2022-02-08T04:47:10.513Z"
   },
   {
    "duration": 7,
    "start_time": "2022-02-08T04:47:10.836Z"
   },
   {
    "duration": 3364,
    "start_time": "2022-02-08T04:48:37.817Z"
   },
   {
    "duration": 286,
    "start_time": "2022-02-08T04:48:53.573Z"
   },
   {
    "duration": 12,
    "start_time": "2022-02-08T04:49:00.468Z"
   },
   {
    "duration": 300,
    "start_time": "2022-02-08T04:49:05.149Z"
   },
   {
    "duration": 294,
    "start_time": "2022-02-08T04:49:09.597Z"
   },
   {
    "duration": 8,
    "start_time": "2022-02-08T04:51:10.767Z"
   },
   {
    "duration": 416,
    "start_time": "2022-02-08T04:52:05.397Z"
   },
   {
    "duration": 369,
    "start_time": "2022-02-08T04:52:22.749Z"
   },
   {
    "duration": 504,
    "start_time": "2022-02-08T04:52:59.477Z"
   },
   {
    "duration": 320,
    "start_time": "2022-02-08T04:53:07.611Z"
   },
   {
    "duration": 356,
    "start_time": "2022-02-08T04:53:41.197Z"
   },
   {
    "duration": 325,
    "start_time": "2022-02-08T04:53:52.990Z"
   },
   {
    "duration": 85,
    "start_time": "2022-02-08T04:54:00.120Z"
   },
   {
    "duration": 327,
    "start_time": "2022-02-08T04:54:04.041Z"
   },
   {
    "duration": 1613,
    "start_time": "2022-02-08T04:54:39.545Z"
   },
   {
    "duration": 381,
    "start_time": "2022-02-08T04:58:45.390Z"
   },
   {
    "duration": 368,
    "start_time": "2022-02-08T04:58:58.475Z"
   },
   {
    "duration": 15,
    "start_time": "2022-02-08T05:01:06.362Z"
   },
   {
    "duration": 869,
    "start_time": "2022-02-08T05:01:11.495Z"
   },
   {
    "duration": 5,
    "start_time": "2022-02-08T05:08:58.915Z"
   },
   {
    "duration": 25,
    "start_time": "2022-02-08T05:09:30.907Z"
   },
   {
    "duration": 7,
    "start_time": "2022-02-08T05:09:37.873Z"
   },
   {
    "duration": 34,
    "start_time": "2022-02-08T05:09:46.610Z"
   },
   {
    "duration": 61,
    "start_time": "2022-02-08T05:10:18.233Z"
   },
   {
    "duration": 6,
    "start_time": "2022-02-08T05:11:06.780Z"
   },
   {
    "duration": 8,
    "start_time": "2022-02-08T05:11:49.379Z"
   },
   {
    "duration": 350,
    "start_time": "2022-02-08T16:07:44.799Z"
   },
   {
    "duration": 1546,
    "start_time": "2022-02-08T16:08:06.624Z"
   },
   {
    "duration": 49,
    "start_time": "2022-02-08T16:08:09.149Z"
   },
   {
    "duration": 8,
    "start_time": "2022-02-08T16:08:09.331Z"
   },
   {
    "duration": 873,
    "start_time": "2022-02-08T16:08:09.506Z"
   },
   {
    "duration": 4,
    "start_time": "2022-02-08T16:08:10.382Z"
   },
   {
    "duration": 14,
    "start_time": "2022-02-08T16:08:10.389Z"
   },
   {
    "duration": 533,
    "start_time": "2022-02-08T16:08:10.405Z"
   },
   {
    "duration": 5,
    "start_time": "2022-02-08T16:08:10.940Z"
   },
   {
    "duration": 463,
    "start_time": "2022-02-08T16:08:10.948Z"
   },
   {
    "duration": 454,
    "start_time": "2022-02-08T16:08:11.413Z"
   },
   {
    "duration": 2243,
    "start_time": "2022-02-08T16:08:11.870Z"
   },
   {
    "duration": 46,
    "start_time": "2022-02-08T16:08:14.116Z"
   },
   {
    "duration": 7,
    "start_time": "2022-02-08T16:08:14.165Z"
   },
   {
    "duration": 62,
    "start_time": "2022-02-08T16:08:14.175Z"
   },
   {
    "duration": 10,
    "start_time": "2022-02-08T16:08:14.239Z"
   },
   {
    "duration": 18,
    "start_time": "2022-02-08T16:08:14.251Z"
   },
   {
    "duration": 711,
    "start_time": "2022-02-08T16:10:16.933Z"
   },
   {
    "duration": 86,
    "start_time": "2022-02-08T16:10:56.825Z"
   },
   {
    "duration": 220,
    "start_time": "2022-02-08T16:11:02.616Z"
   },
   {
    "duration": 475,
    "start_time": "2022-02-08T16:11:08.565Z"
   },
   {
    "duration": 802,
    "start_time": "2022-02-08T16:11:19.035Z"
   },
   {
    "duration": 310141,
    "start_time": "2022-02-08T16:17:21.037Z"
   },
   {
    "duration": 997459,
    "start_time": "2022-02-08T16:22:31.181Z"
   },
   {
    "duration": 94,
    "start_time": "2022-02-08T16:39:08.644Z"
   },
   {
    "duration": 1264,
    "start_time": "2022-02-08T16:43:53.629Z"
   },
   {
    "duration": 343,
    "start_time": "2022-02-08T16:43:55.523Z"
   },
   {
    "duration": 289,
    "start_time": "2022-02-08T16:44:10.863Z"
   },
   {
    "duration": 251,
    "start_time": "2022-02-08T16:44:56.327Z"
   },
   {
    "duration": 5,
    "start_time": "2022-02-08T16:45:02.885Z"
   },
   {
    "duration": 6,
    "start_time": "2022-02-08T16:45:12.394Z"
   },
   {
    "duration": 19293,
    "start_time": "2022-02-08T16:45:18.185Z"
   }
  ],
  "kernelspec": {
   "display_name": "Python 3",
   "language": "python",
   "name": "python3"
  },
  "language_info": {
   "codemirror_mode": {
    "name": "ipython",
    "version": 3
   },
   "file_extension": ".py",
   "mimetype": "text/x-python",
   "name": "python",
   "nbconvert_exporter": "python",
   "pygments_lexer": "ipython3",
   "version": "3.8.8"
  },
  "toc": {
   "base_numbering": 1,
   "nav_menu": {},
   "number_sections": true,
   "sideBar": true,
   "skip_h1_title": true,
   "title_cell": "Содержание",
   "title_sidebar": "Contents",
   "toc_cell": true,
   "toc_position": {},
   "toc_section_display": true,
   "toc_window_display": false
  }
 },
 "nbformat": 4,
 "nbformat_minor": 2
}
